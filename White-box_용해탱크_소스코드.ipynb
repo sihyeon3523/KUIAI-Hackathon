{
  "nbformat": 4,
  "nbformat_minor": 0,
  "metadata": {
    "colab": {
      "name": "White-box_용해탱크_소스코드.ipynb",
      "provenance": [],
      "collapsed_sections": []
    },
    "kernelspec": {
      "name": "python3",
      "display_name": "Python 3"
    }
  },
  "cells": [
    {
      "cell_type": "markdown",
      "metadata": {
        "id": "2hYZ_DonRuZW"
      },
      "source": [
        "# [ KUIAI, AI해커톤 ] 데이터셋2_용해탱크 AI 데이터 분석\r\n",
        "- 주관 및 지원 : 고려대학교, 한국산업기술진흥원, 한국전자연구기술원 \r\n",
        "- 후원 : TachYon Tech\r\n",
        "- 팀명 : White-box\r\n",
        "- 팀원 : 한양대학교 ERICA 고유미, 노지영, 유동완, 이시현\r\n"
      ]
    },
    {
      "cell_type": "markdown",
      "metadata": {
        "id": "wTOnu0j4xK9P"
      },
      "source": [
        "# [용해탱크]\r\n",
        "\r\n",
        "### 공정 개요\r\n",
        "-  원료를 시차를 두고 순차적으로 투입 \r\n",
        "   - 투입시마다 내용물의 상태에 변화 발생\r\n",
        "   - 시계열로 이루어진 데이터 / 순서 의존성 유지\r\n",
        "\r\n",
        "- 원료 용해 시 너무 낮은 온도와 느린 교반속도는 용해에 문제를 발생\r\n",
        " - 단, 무작정 올린 온도와 속도 또한 용해에 영향을 미침\r\n",
        "  \r\n",
        "- 모든 요인변수는 용해 내용량(중량)에 의해 영향을 받음\r\n",
        "  \r\n",
        "  \r\n",
        "###용해상태에 영향을 미치는 요인\r\n",
        "\r\n",
        " - 용해 온도(MELT_TEMP)\r\n",
        " - 교반 속도(MOTORSPEED)\r\n",
        " - 내용량(INSP: 생산품의 수분함유량)"
      ]
    },
    {
      "cell_type": "markdown",
      "metadata": {
        "id": "FckQs3iAxabz"
      },
      "source": [
        "## 단계 1. 라이브러리 및 데이터 불러오기"
      ]
    },
    {
      "cell_type": "code",
      "metadata": {
        "id": "CkaK6M1bVt24"
      },
      "source": [
        "import numpy as np\r\n",
        "import pandas as pd\r\n",
        "import scipy \r\n",
        "from sklearn.ensemble import IsolationForest "
      ],
      "execution_count": null,
      "outputs": []
    },
    {
      "cell_type": "markdown",
      "metadata": {
        "id": "MKqO7wT6xkh4"
      },
      "source": [
        "## 단계2. 데이터 특성 파악 및 전처리"
      ]
    },
    {
      "cell_type": "markdown",
      "metadata": {
        "id": "Tf4I4f2WxobM"
      },
      "source": [
        "### 2-1 데이터 기본 구조 파악"
      ]
    },
    {
      "cell_type": "code",
      "metadata": {
        "colab": {
          "base_uri": "https://localhost:8080/",
          "height": 204
        },
        "id": "cBgVFozYILG5",
        "outputId": "46e94bf2-1cc8-4c48-f15d-99109627e1bd"
      },
      "source": [
        "df = pd.read_csv('melting_tank.csv')\r\n",
        "df.head()"
      ],
      "execution_count": null,
      "outputs": [
        {
          "output_type": "execute_result",
          "data": {
            "text/html": [
              "<div>\n",
              "<style scoped>\n",
              "    .dataframe tbody tr th:only-of-type {\n",
              "        vertical-align: middle;\n",
              "    }\n",
              "\n",
              "    .dataframe tbody tr th {\n",
              "        vertical-align: top;\n",
              "    }\n",
              "\n",
              "    .dataframe thead th {\n",
              "        text-align: right;\n",
              "    }\n",
              "</style>\n",
              "<table border=\"1\" class=\"dataframe\">\n",
              "  <thead>\n",
              "    <tr style=\"text-align: right;\">\n",
              "      <th></th>\n",
              "      <th>STD_DT</th>\n",
              "      <th>NUM</th>\n",
              "      <th>MELT_TEMP</th>\n",
              "      <th>MOTORSPEED</th>\n",
              "      <th>MELT_WEIGHT</th>\n",
              "      <th>INSP</th>\n",
              "      <th>TAG</th>\n",
              "    </tr>\n",
              "  </thead>\n",
              "  <tbody>\n",
              "    <tr>\n",
              "      <th>0</th>\n",
              "      <td>2020-03-04 0:00</td>\n",
              "      <td>0</td>\n",
              "      <td>489</td>\n",
              "      <td>116</td>\n",
              "      <td>631</td>\n",
              "      <td>3.19</td>\n",
              "      <td>OK</td>\n",
              "    </tr>\n",
              "    <tr>\n",
              "      <th>1</th>\n",
              "      <td>2020-03-04 0:00</td>\n",
              "      <td>1</td>\n",
              "      <td>433</td>\n",
              "      <td>78</td>\n",
              "      <td>609</td>\n",
              "      <td>3.19</td>\n",
              "      <td>OK</td>\n",
              "    </tr>\n",
              "    <tr>\n",
              "      <th>2</th>\n",
              "      <td>2020-03-04 0:00</td>\n",
              "      <td>2</td>\n",
              "      <td>464</td>\n",
              "      <td>154</td>\n",
              "      <td>608</td>\n",
              "      <td>3.19</td>\n",
              "      <td>OK</td>\n",
              "    </tr>\n",
              "    <tr>\n",
              "      <th>3</th>\n",
              "      <td>2020-03-04 0:00</td>\n",
              "      <td>3</td>\n",
              "      <td>379</td>\n",
              "      <td>212</td>\n",
              "      <td>606</td>\n",
              "      <td>3.19</td>\n",
              "      <td>OK</td>\n",
              "    </tr>\n",
              "    <tr>\n",
              "      <th>4</th>\n",
              "      <td>2020-03-04 0:00</td>\n",
              "      <td>4</td>\n",
              "      <td>798</td>\n",
              "      <td>1736</td>\n",
              "      <td>604</td>\n",
              "      <td>3.21</td>\n",
              "      <td>OK</td>\n",
              "    </tr>\n",
              "  </tbody>\n",
              "</table>\n",
              "</div>"
            ],
            "text/plain": [
              "            STD_DT  NUM  MELT_TEMP  MOTORSPEED  MELT_WEIGHT  INSP TAG\n",
              "0  2020-03-04 0:00    0        489         116          631  3.19  OK\n",
              "1  2020-03-04 0:00    1        433          78          609  3.19  OK\n",
              "2  2020-03-04 0:00    2        464         154          608  3.19  OK\n",
              "3  2020-03-04 0:00    3        379         212          606  3.19  OK\n",
              "4  2020-03-04 0:00    4        798        1736          604  3.21  OK"
            ]
          },
          "metadata": {
            "tags": []
          },
          "execution_count": 114
        }
      ]
    },
    {
      "cell_type": "markdown",
      "metadata": {
        "id": "dHeuA38YxvF4"
      },
      "source": [
        "### 2-2 분석에 활용할 칼럼 추출"
      ]
    },
    {
      "cell_type": "markdown",
      "metadata": {
        "id": "259haTKbx_my"
      },
      "source": [
        "- 'df’에서 실제 분석에 활용할 독립변수, 종속변수를 제외한 나머지 변수들을 제거한다"
      ]
    },
    {
      "cell_type": "code",
      "metadata": {
        "id": "LIOMxw7QpUa1"
      },
      "source": [
        "df.drop(['STD_DT','NUM','MELT_WEIGHT'],axis=1, inplace=True)"
      ],
      "execution_count": null,
      "outputs": []
    },
    {
      "cell_type": "markdown",
      "metadata": {
        "id": "Q6MTunO4yMH6"
      },
      "source": [
        "### 2-3 범주형 변수를 숫자 형태로 인코딩해주는 과정"
      ]
    },
    {
      "cell_type": "markdown",
      "metadata": {
        "id": "3dly-bxbya8n"
      },
      "source": [
        " - 종속변수인 TAG가 범주형(OK, NG) 형태로 되어있기 때문에 해당 변수를 숫자 형태로 인코딩 해주어야함\r\n",
        "   (기계는 문자열을 인식하지 못하기 때문에 숫자 형태로 변환 필요)"
      ]
    },
    {
      "cell_type": "code",
      "metadata": {
        "id": "kBgtSrWrI2Vu"
      },
      "source": [
        "df.loc[df['TAG']== \"NG\", \"TAG\"] = 1\r\n",
        "df.loc[df['TAG']== \"OK\", \"TAG\"] = 0\r\n",
        "df['TAG'] = df['TAG'].astype(int)"
      ],
      "execution_count": null,
      "outputs": []
    },
    {
      "cell_type": "markdown",
      "metadata": {
        "id": "6k23yognyr5W"
      },
      "source": [
        "### 2-4. 양품과 불량품에 따른 데이터 분류"
      ]
    },
    {
      "cell_type": "code",
      "metadata": {
        "id": "m9n6IgACbW3j"
      },
      "source": [
        "# 양품\r\n",
        "tag_Y = df[df['TAG']==0]\r\n",
        "\r\n",
        "# 불량\r\n",
        "tag_N = df[df['TAG']==1]"
      ],
      "execution_count": null,
      "outputs": []
    },
    {
      "cell_type": "code",
      "metadata": {
        "colab": {
          "base_uri": "https://localhost:8080/",
          "height": 419
        },
        "id": "YgdT8Kv9bieo",
        "outputId": "b377a59b-b8ea-4d2f-8ed3-9b075fb77f11"
      },
      "source": [
        "pd.DataFrame(tag_Y)"
      ],
      "execution_count": null,
      "outputs": [
        {
          "output_type": "execute_result",
          "data": {
            "text/html": [
              "<div>\n",
              "<style scoped>\n",
              "    .dataframe tbody tr th:only-of-type {\n",
              "        vertical-align: middle;\n",
              "    }\n",
              "\n",
              "    .dataframe tbody tr th {\n",
              "        vertical-align: top;\n",
              "    }\n",
              "\n",
              "    .dataframe thead th {\n",
              "        text-align: right;\n",
              "    }\n",
              "</style>\n",
              "<table border=\"1\" class=\"dataframe\">\n",
              "  <thead>\n",
              "    <tr style=\"text-align: right;\">\n",
              "      <th></th>\n",
              "      <th>MELT_TEMP</th>\n",
              "      <th>MOTORSPEED</th>\n",
              "      <th>INSP</th>\n",
              "      <th>TAG</th>\n",
              "    </tr>\n",
              "  </thead>\n",
              "  <tbody>\n",
              "    <tr>\n",
              "      <th>0</th>\n",
              "      <td>489</td>\n",
              "      <td>116</td>\n",
              "      <td>3.19</td>\n",
              "      <td>0</td>\n",
              "    </tr>\n",
              "    <tr>\n",
              "      <th>1</th>\n",
              "      <td>433</td>\n",
              "      <td>78</td>\n",
              "      <td>3.19</td>\n",
              "      <td>0</td>\n",
              "    </tr>\n",
              "    <tr>\n",
              "      <th>2</th>\n",
              "      <td>464</td>\n",
              "      <td>154</td>\n",
              "      <td>3.19</td>\n",
              "      <td>0</td>\n",
              "    </tr>\n",
              "    <tr>\n",
              "      <th>3</th>\n",
              "      <td>379</td>\n",
              "      <td>212</td>\n",
              "      <td>3.19</td>\n",
              "      <td>0</td>\n",
              "    </tr>\n",
              "    <tr>\n",
              "      <th>4</th>\n",
              "      <td>798</td>\n",
              "      <td>1736</td>\n",
              "      <td>3.21</td>\n",
              "      <td>0</td>\n",
              "    </tr>\n",
              "    <tr>\n",
              "      <th>...</th>\n",
              "      <td>...</td>\n",
              "      <td>...</td>\n",
              "      <td>...</td>\n",
              "      <td>...</td>\n",
              "    </tr>\n",
              "    <tr>\n",
              "      <th>835195</th>\n",
              "      <td>755</td>\n",
              "      <td>1743</td>\n",
              "      <td>3.21</td>\n",
              "      <td>0</td>\n",
              "    </tr>\n",
              "    <tr>\n",
              "      <th>835196</th>\n",
              "      <td>385</td>\n",
              "      <td>206</td>\n",
              "      <td>3.19</td>\n",
              "      <td>0</td>\n",
              "    </tr>\n",
              "    <tr>\n",
              "      <th>835197</th>\n",
              "      <td>465</td>\n",
              "      <td>148</td>\n",
              "      <td>3.20</td>\n",
              "      <td>0</td>\n",
              "    </tr>\n",
              "    <tr>\n",
              "      <th>835198</th>\n",
              "      <td>467</td>\n",
              "      <td>0</td>\n",
              "      <td>3.19</td>\n",
              "      <td>0</td>\n",
              "    </tr>\n",
              "    <tr>\n",
              "      <th>835199</th>\n",
              "      <td>453</td>\n",
              "      <td>125</td>\n",
              "      <td>3.20</td>\n",
              "      <td>0</td>\n",
              "    </tr>\n",
              "  </tbody>\n",
              "</table>\n",
              "<p>658133 rows × 4 columns</p>\n",
              "</div>"
            ],
            "text/plain": [
              "        MELT_TEMP  MOTORSPEED  INSP  TAG\n",
              "0             489         116  3.19    0\n",
              "1             433          78  3.19    0\n",
              "2             464         154  3.19    0\n",
              "3             379         212  3.19    0\n",
              "4             798        1736  3.21    0\n",
              "...           ...         ...   ...  ...\n",
              "835195        755        1743  3.21    0\n",
              "835196        385         206  3.19    0\n",
              "835197        465         148  3.20    0\n",
              "835198        467           0  3.19    0\n",
              "835199        453         125  3.20    0\n",
              "\n",
              "[658133 rows x 4 columns]"
            ]
          },
          "metadata": {
            "tags": []
          },
          "execution_count": 122
        }
      ]
    },
    {
      "cell_type": "code",
      "metadata": {
        "id": "1oFcr3prbsU5"
      },
      "source": [
        "# 양품\r\n",
        "tag_Y_X = tag_Y.drop(['TAG'] ,axis=1)\r\n",
        "tag_Y_y = pd.DataFrame(tag_Y['TAG'])\r\n",
        "\r\n",
        "# 불량\r\n",
        "tag_N_X = tag_N.drop(['TAG'] ,axis=1)\r\n",
        "tag_N_y =  pd.DataFrame(tag_N['TAG'])"
      ],
      "execution_count": null,
      "outputs": []
    },
    {
      "cell_type": "code",
      "metadata": {
        "colab": {
          "base_uri": "https://localhost:8080/",
          "height": 419
        },
        "id": "GycC4r3Yd-DI",
        "outputId": "d1629077-4c67-4177-b550-6e0414a4acdd"
      },
      "source": [
        "tag_Y_X"
      ],
      "execution_count": null,
      "outputs": [
        {
          "output_type": "execute_result",
          "data": {
            "text/html": [
              "<div>\n",
              "<style scoped>\n",
              "    .dataframe tbody tr th:only-of-type {\n",
              "        vertical-align: middle;\n",
              "    }\n",
              "\n",
              "    .dataframe tbody tr th {\n",
              "        vertical-align: top;\n",
              "    }\n",
              "\n",
              "    .dataframe thead th {\n",
              "        text-align: right;\n",
              "    }\n",
              "</style>\n",
              "<table border=\"1\" class=\"dataframe\">\n",
              "  <thead>\n",
              "    <tr style=\"text-align: right;\">\n",
              "      <th></th>\n",
              "      <th>MELT_TEMP</th>\n",
              "      <th>MOTORSPEED</th>\n",
              "      <th>INSP</th>\n",
              "    </tr>\n",
              "  </thead>\n",
              "  <tbody>\n",
              "    <tr>\n",
              "      <th>0</th>\n",
              "      <td>489</td>\n",
              "      <td>116</td>\n",
              "      <td>3.19</td>\n",
              "    </tr>\n",
              "    <tr>\n",
              "      <th>1</th>\n",
              "      <td>433</td>\n",
              "      <td>78</td>\n",
              "      <td>3.19</td>\n",
              "    </tr>\n",
              "    <tr>\n",
              "      <th>2</th>\n",
              "      <td>464</td>\n",
              "      <td>154</td>\n",
              "      <td>3.19</td>\n",
              "    </tr>\n",
              "    <tr>\n",
              "      <th>3</th>\n",
              "      <td>379</td>\n",
              "      <td>212</td>\n",
              "      <td>3.19</td>\n",
              "    </tr>\n",
              "    <tr>\n",
              "      <th>4</th>\n",
              "      <td>798</td>\n",
              "      <td>1736</td>\n",
              "      <td>3.21</td>\n",
              "    </tr>\n",
              "    <tr>\n",
              "      <th>...</th>\n",
              "      <td>...</td>\n",
              "      <td>...</td>\n",
              "      <td>...</td>\n",
              "    </tr>\n",
              "    <tr>\n",
              "      <th>835195</th>\n",
              "      <td>755</td>\n",
              "      <td>1743</td>\n",
              "      <td>3.21</td>\n",
              "    </tr>\n",
              "    <tr>\n",
              "      <th>835196</th>\n",
              "      <td>385</td>\n",
              "      <td>206</td>\n",
              "      <td>3.19</td>\n",
              "    </tr>\n",
              "    <tr>\n",
              "      <th>835197</th>\n",
              "      <td>465</td>\n",
              "      <td>148</td>\n",
              "      <td>3.20</td>\n",
              "    </tr>\n",
              "    <tr>\n",
              "      <th>835198</th>\n",
              "      <td>467</td>\n",
              "      <td>0</td>\n",
              "      <td>3.19</td>\n",
              "    </tr>\n",
              "    <tr>\n",
              "      <th>835199</th>\n",
              "      <td>453</td>\n",
              "      <td>125</td>\n",
              "      <td>3.20</td>\n",
              "    </tr>\n",
              "  </tbody>\n",
              "</table>\n",
              "<p>658133 rows × 3 columns</p>\n",
              "</div>"
            ],
            "text/plain": [
              "        MELT_TEMP  MOTORSPEED  INSP\n",
              "0             489         116  3.19\n",
              "1             433          78  3.19\n",
              "2             464         154  3.19\n",
              "3             379         212  3.19\n",
              "4             798        1736  3.21\n",
              "...           ...         ...   ...\n",
              "835195        755        1743  3.21\n",
              "835196        385         206  3.19\n",
              "835197        465         148  3.20\n",
              "835198        467           0  3.19\n",
              "835199        453         125  3.20\n",
              "\n",
              "[658133 rows x 3 columns]"
            ]
          },
          "metadata": {
            "tags": []
          },
          "execution_count": 124
        }
      ]
    },
    {
      "cell_type": "markdown",
      "metadata": {
        "id": "bwPTsslPyzL5"
      },
      "source": [
        "### 2-5. MinMax 정규화"
      ]
    },
    {
      "cell_type": "code",
      "metadata": {
        "id": "g1wT5QvVb85T"
      },
      "source": [
        "from sklearn.preprocessing import MinMaxScaler\r\n",
        "\r\n",
        "scaler = MinMaxScaler()\r\n",
        "scaler.fit(tag_Y_X)\r\n",
        "scaler.fit(tag_N_X)\r\n",
        "\r\n",
        "tag_Y_X_s = scaler.transform(tag_Y_X)\r\n",
        "tag_N_X_s = scaler.transform(tag_N_X)"
      ],
      "execution_count": null,
      "outputs": []
    },
    {
      "cell_type": "code",
      "metadata": {
        "id": "rBZZXJsSb8pN"
      },
      "source": [
        "tag_Y_X_s_pd = pd.DataFrame(tag_Y_X_s, columns=tag_Y_X.columns)\r\n",
        "\r\n",
        "tag_N_X_s_pd = pd.DataFrame(tag_N_X_s, columns=tag_N_X.columns)"
      ],
      "execution_count": null,
      "outputs": []
    },
    {
      "cell_type": "code",
      "metadata": {
        "colab": {
          "base_uri": "https://localhost:8080/",
          "height": 419
        },
        "id": "CxjUCyuXeG4o",
        "outputId": "59298711-a145-44a1-f124-70b998f8352c"
      },
      "source": [
        "tag_Y_X_s_pd"
      ],
      "execution_count": null,
      "outputs": [
        {
          "output_type": "execute_result",
          "data": {
            "text/html": [
              "<div>\n",
              "<style scoped>\n",
              "    .dataframe tbody tr th:only-of-type {\n",
              "        vertical-align: middle;\n",
              "    }\n",
              "\n",
              "    .dataframe tbody tr th {\n",
              "        vertical-align: top;\n",
              "    }\n",
              "\n",
              "    .dataframe thead th {\n",
              "        text-align: right;\n",
              "    }\n",
              "</style>\n",
              "<table border=\"1\" class=\"dataframe\">\n",
              "  <thead>\n",
              "    <tr style=\"text-align: right;\">\n",
              "      <th></th>\n",
              "      <th>MELT_TEMP</th>\n",
              "      <th>MOTORSPEED</th>\n",
              "      <th>INSP</th>\n",
              "    </tr>\n",
              "  </thead>\n",
              "  <tbody>\n",
              "    <tr>\n",
              "      <th>0</th>\n",
              "      <td>0.732794</td>\n",
              "      <td>0.429630</td>\n",
              "      <td>0.50</td>\n",
              "    </tr>\n",
              "    <tr>\n",
              "      <th>1</th>\n",
              "      <td>0.506073</td>\n",
              "      <td>0.288889</td>\n",
              "      <td>0.50</td>\n",
              "    </tr>\n",
              "    <tr>\n",
              "      <th>2</th>\n",
              "      <td>0.631579</td>\n",
              "      <td>0.570370</td>\n",
              "      <td>0.50</td>\n",
              "    </tr>\n",
              "    <tr>\n",
              "      <th>3</th>\n",
              "      <td>0.287449</td>\n",
              "      <td>0.785185</td>\n",
              "      <td>0.50</td>\n",
              "    </tr>\n",
              "    <tr>\n",
              "      <th>4</th>\n",
              "      <td>1.983806</td>\n",
              "      <td>6.429630</td>\n",
              "      <td>1.00</td>\n",
              "    </tr>\n",
              "    <tr>\n",
              "      <th>...</th>\n",
              "      <td>...</td>\n",
              "      <td>...</td>\n",
              "      <td>...</td>\n",
              "    </tr>\n",
              "    <tr>\n",
              "      <th>658128</th>\n",
              "      <td>1.809717</td>\n",
              "      <td>6.455556</td>\n",
              "      <td>1.00</td>\n",
              "    </tr>\n",
              "    <tr>\n",
              "      <th>658129</th>\n",
              "      <td>0.311741</td>\n",
              "      <td>0.762963</td>\n",
              "      <td>0.50</td>\n",
              "    </tr>\n",
              "    <tr>\n",
              "      <th>658130</th>\n",
              "      <td>0.635628</td>\n",
              "      <td>0.548148</td>\n",
              "      <td>0.75</td>\n",
              "    </tr>\n",
              "    <tr>\n",
              "      <th>658131</th>\n",
              "      <td>0.643725</td>\n",
              "      <td>0.000000</td>\n",
              "      <td>0.50</td>\n",
              "    </tr>\n",
              "    <tr>\n",
              "      <th>658132</th>\n",
              "      <td>0.587045</td>\n",
              "      <td>0.462963</td>\n",
              "      <td>0.75</td>\n",
              "    </tr>\n",
              "  </tbody>\n",
              "</table>\n",
              "<p>658133 rows × 3 columns</p>\n",
              "</div>"
            ],
            "text/plain": [
              "        MELT_TEMP  MOTORSPEED  INSP\n",
              "0        0.732794    0.429630  0.50\n",
              "1        0.506073    0.288889  0.50\n",
              "2        0.631579    0.570370  0.50\n",
              "3        0.287449    0.785185  0.50\n",
              "4        1.983806    6.429630  1.00\n",
              "...           ...         ...   ...\n",
              "658128   1.809717    6.455556  1.00\n",
              "658129   0.311741    0.762963  0.50\n",
              "658130   0.635628    0.548148  0.75\n",
              "658131   0.643725    0.000000  0.50\n",
              "658132   0.587045    0.462963  0.75\n",
              "\n",
              "[658133 rows x 3 columns]"
            ]
          },
          "metadata": {
            "tags": []
          },
          "execution_count": 127
        }
      ]
    },
    {
      "cell_type": "markdown",
      "metadata": {
        "id": "kbEgRPMHzHzO"
      },
      "source": [
        "### 2-6. 훈련/테스트 데이터 분리"
      ]
    },
    {
      "cell_type": "code",
      "metadata": {
        "colab": {
          "base_uri": "https://localhost:8080/"
        },
        "id": "DyjYaNvJcSN7",
        "outputId": "fa0d7939-7d94-445d-ee6a-7722cef8a9a7"
      },
      "source": [
        "import pandas as pd\r\n",
        "\r\n",
        "# 양품 데이터 내에서, train, test 구분\r\n",
        "\r\n",
        "X_train = tag_Y_X_s_pd.iloc[:300000]\r\n",
        "y_train = tag_Y_y.iloc[:300000]\r\n",
        "\r\n",
        "tag_test_Y_x = tag_Y_X_s_pd.iloc[300000:]\r\n",
        "tag_test_Y_y = tag_Y_y.iloc[300000:]\r\n",
        "\r\n",
        "# 불량 데이터는 모조리 test로 \r\n",
        "tag_test_N = tag_N_X\r\n",
        "\r\n",
        "X_test = pd.concat([tag_test_Y_x,tag_test_N])\r\n",
        "\r\n",
        "y_test = pd.concat([tag_test_Y_y, tag_N_y ])\r\n",
        "\r\n",
        "print('CN7의 양품 학습 데이터셋 개수:', len(X_train))\r\n",
        "print('CN7의 양품 검증 데이터셋 개수:', len(tag_test_Y_x))\r\n",
        "print('CN7의 불량 검증 데이터셋 개수:', len(tag_test_N))"
      ],
      "execution_count": null,
      "outputs": [
        {
          "output_type": "stream",
          "text": [
            "CN7의 양품 학습 데이터셋 개수: 300000\n",
            "CN7의 양품 검증 데이터셋 개수: 358133\n",
            "CN7의 불량 검증 데이터셋 개수: 177067\n"
          ],
          "name": "stdout"
        }
      ]
    },
    {
      "cell_type": "code",
      "metadata": {
        "colab": {
          "base_uri": "https://localhost:8080/",
          "height": 419
        },
        "id": "jINIIZCQfUCW",
        "outputId": "7c9e92ad-a009-4b3b-ada0-9b1875b3e41c"
      },
      "source": [
        "tag_test_Y_x"
      ],
      "execution_count": null,
      "outputs": [
        {
          "output_type": "execute_result",
          "data": {
            "text/html": [
              "<div>\n",
              "<style scoped>\n",
              "    .dataframe tbody tr th:only-of-type {\n",
              "        vertical-align: middle;\n",
              "    }\n",
              "\n",
              "    .dataframe tbody tr th {\n",
              "        vertical-align: top;\n",
              "    }\n",
              "\n",
              "    .dataframe thead th {\n",
              "        text-align: right;\n",
              "    }\n",
              "</style>\n",
              "<table border=\"1\" class=\"dataframe\">\n",
              "  <thead>\n",
              "    <tr style=\"text-align: right;\">\n",
              "      <th></th>\n",
              "      <th>MELT_TEMP</th>\n",
              "      <th>MOTORSPEED</th>\n",
              "      <th>INSP</th>\n",
              "    </tr>\n",
              "  </thead>\n",
              "  <tbody>\n",
              "    <tr>\n",
              "      <th>300000</th>\n",
              "      <td>0.769231</td>\n",
              "      <td>0.529630</td>\n",
              "      <td>0.50</td>\n",
              "    </tr>\n",
              "    <tr>\n",
              "      <th>300001</th>\n",
              "      <td>0.627530</td>\n",
              "      <td>0.611111</td>\n",
              "      <td>0.50</td>\n",
              "    </tr>\n",
              "    <tr>\n",
              "      <th>300002</th>\n",
              "      <td>1.672065</td>\n",
              "      <td>6.385185</td>\n",
              "      <td>1.25</td>\n",
              "    </tr>\n",
              "    <tr>\n",
              "      <th>300003</th>\n",
              "      <td>1.842105</td>\n",
              "      <td>6.437037</td>\n",
              "      <td>1.25</td>\n",
              "    </tr>\n",
              "    <tr>\n",
              "      <th>300004</th>\n",
              "      <td>0.728745</td>\n",
              "      <td>0.603704</td>\n",
              "      <td>0.50</td>\n",
              "    </tr>\n",
              "    <tr>\n",
              "      <th>...</th>\n",
              "      <td>...</td>\n",
              "      <td>...</td>\n",
              "      <td>...</td>\n",
              "    </tr>\n",
              "    <tr>\n",
              "      <th>658128</th>\n",
              "      <td>1.809717</td>\n",
              "      <td>6.455556</td>\n",
              "      <td>1.00</td>\n",
              "    </tr>\n",
              "    <tr>\n",
              "      <th>658129</th>\n",
              "      <td>0.311741</td>\n",
              "      <td>0.762963</td>\n",
              "      <td>0.50</td>\n",
              "    </tr>\n",
              "    <tr>\n",
              "      <th>658130</th>\n",
              "      <td>0.635628</td>\n",
              "      <td>0.548148</td>\n",
              "      <td>0.75</td>\n",
              "    </tr>\n",
              "    <tr>\n",
              "      <th>658131</th>\n",
              "      <td>0.643725</td>\n",
              "      <td>0.000000</td>\n",
              "      <td>0.50</td>\n",
              "    </tr>\n",
              "    <tr>\n",
              "      <th>658132</th>\n",
              "      <td>0.587045</td>\n",
              "      <td>0.462963</td>\n",
              "      <td>0.75</td>\n",
              "    </tr>\n",
              "  </tbody>\n",
              "</table>\n",
              "<p>358133 rows × 3 columns</p>\n",
              "</div>"
            ],
            "text/plain": [
              "        MELT_TEMP  MOTORSPEED  INSP\n",
              "300000   0.769231    0.529630  0.50\n",
              "300001   0.627530    0.611111  0.50\n",
              "300002   1.672065    6.385185  1.25\n",
              "300003   1.842105    6.437037  1.25\n",
              "300004   0.728745    0.603704  0.50\n",
              "...           ...         ...   ...\n",
              "658128   1.809717    6.455556  1.00\n",
              "658129   0.311741    0.762963  0.50\n",
              "658130   0.635628    0.548148  0.75\n",
              "658131   0.643725    0.000000  0.50\n",
              "658132   0.587045    0.462963  0.75\n",
              "\n",
              "[358133 rows x 3 columns]"
            ]
          },
          "metadata": {
            "tags": []
          },
          "execution_count": 129
        }
      ]
    },
    {
      "cell_type": "markdown",
      "metadata": {
        "id": "yLde1RRPzWi3"
      },
      "source": [
        "## 단계3. 모델 실행 및 평가"
      ]
    },
    {
      "cell_type": "markdown",
      "metadata": {
        "id": "bWAOzfEuzjhI"
      },
      "source": [
        "### 3-1. Isolation Forest 모델 구축"
      ]
    },
    {
      "cell_type": "code",
      "metadata": {
        "id": "cvIEk1-jhEUi"
      },
      "source": [
        "from sklearn.ensemble import IsolationForest\r\n",
        "clf = IsolationForest(n_estimators=50, max_samples='auto', contamination=float(0.1),max_features=1.0, random_state=None, n_jobs=-1)"
      ],
      "execution_count": null,
      "outputs": []
    },
    {
      "cell_type": "code",
      "metadata": {
        "colab": {
          "base_uri": "https://localhost:8080/"
        },
        "id": "mYxAjkELcSKi",
        "outputId": "f0bfb539-129e-454f-a2d3-fdf0944aad35"
      },
      "source": [
        "import time \r\n",
        "start = time.time()\r\n",
        "\r\n",
        "clf.fit(X_train)\r\n",
        "pred_outlier = clf.predict(X_test)\r\n",
        "\r\n",
        "print(time.time()-start)"
      ],
      "execution_count": null,
      "outputs": [
        {
          "output_type": "stream",
          "text": [
            "11.433677911758423\n"
          ],
          "name": "stdout"
        }
      ]
    },
    {
      "cell_type": "code",
      "metadata": {
        "id": "4v1_7xSZg4V6"
      },
      "source": [
        "pred_outlier = pd.DataFrame(pred_outlier).replace({1:0, -1:1})"
      ],
      "execution_count": null,
      "outputs": []
    },
    {
      "cell_type": "markdown",
      "metadata": {
        "id": "CAK0TRI3ztZU"
      },
      "source": [
        "### 3-2. 모델 훈련 및 평가"
      ]
    },
    {
      "cell_type": "code",
      "metadata": {
        "colab": {
          "base_uri": "https://localhost:8080/",
          "height": 536
        },
        "id": "cv1JmMsyevqn",
        "outputId": "7ab0691b-ade1-4f31-e00e-0c049a2bef6c"
      },
      "source": [
        "from sklearn.metrics import confusion_matrix, classification_report, accuracy_score, roc_auc_score\r\n",
        "import itertools\r\n",
        "\r\n",
        "class_name = [0,1]\r\n",
        "def plot_confusion_matrix(classes, pred, y_test, \r\n",
        "                          normalize=False, title='Confusion matrix', cmap=plt.cm.Blues):\r\n",
        "    \r\n",
        "    cm = confusion_matrix(y_test, pred)\r\n",
        "    plt.imshow(cm, interpolation='nearest', cmap=cmap)\r\n",
        "    plt.title(title)\r\n",
        "    plt.colorbar()\r\n",
        "    tick_marks = np.arange(len(classes))\r\n",
        "    plt.xticks(tick_marks, classes, rotation=0)\r\n",
        "    plt.yticks(tick_marks, classes)\r\n",
        "    \r\n",
        "    if normalize:\r\n",
        "        cm = cm.astype('float') / cm.sum(axis=1)[:, np.newaxis]\r\n",
        "    thresh = cm.max() / 2.\r\n",
        "    for i, j in itertools.product(range(cm.shape[0]), range(cm.shape[1])):\r\n",
        "        plt.text(j, i, cm[i, j],\r\n",
        "                 horizontalalignment=\"center\",\r\n",
        "                 color=\"white\" if cm[i, j] > thresh else \"black\")\r\n",
        "\r\n",
        "\r\n",
        "# 평가\r\n",
        "print('confusion matrix\\n', confusion_matrix(pred_outlier, y_test))\r\n",
        "print('Accuracy: ',accuracy_score(pred_outlier,y_test))\r\n",
        "print('classification_report\\n', classification_report(pred_outlier, y_test))\r\n",
        "print('Auc Score : ', roc_auc_score(pred_outlier, y_test))\r\n",
        "plot_confusion_matrix(class_name, pred_outlier, y_test, title='Isolation Forest')"
      ],
      "execution_count": null,
      "outputs": [
        {
          "output_type": "stream",
          "text": [
            "confusion matrix\n",
            " [[321371      0]\n",
            " [ 36762 177067]]\n",
            "Accuracy:  0.9313116591928251\n",
            "classification_report\n",
            "               precision    recall  f1-score   support\n",
            "\n",
            "           0       0.90      1.00      0.95    321371\n",
            "           1       1.00      0.83      0.91    213829\n",
            "\n",
            "    accuracy                           0.93    535200\n",
            "   macro avg       0.95      0.91      0.93    535200\n",
            "weighted avg       0.94      0.93      0.93    535200\n",
            "\n",
            "Auc Score :  0.9140387880034981\n"
          ],
          "name": "stdout"
        },
        {
          "output_type": "display_data",
          "data": {
            "image/png": "[encoded data removed]",
            "text/plain": [
              "<Figure size 432x288 with 2 Axes>"
            ]
          },
          "metadata": {
            "tags": [],
            "needs_background": "light"
          }
        }
      ]
    }
  ]
}